{
 "cells": [
  {
   "cell_type": "code",
   "execution_count": 17,
   "id": "3a428721",
   "metadata": {
    "scrolled": true
   },
   "outputs": [],
   "source": [
    "import numpy as np\n",
    "import pandas as pd\n",
    "\n",
    "\n",
    "file_path = \"../data/data.csv\"\n",
    "output_path = \"../data/output.txt\"\n",
    "\n",
    "\n",
    "df = pd.read_csv(file_path, encoding='latin1')"
   ]
  },
  {
   "cell_type": "code",
   "execution_count": 18,
   "id": "8ea5697f",
   "metadata": {},
   "outputs": [],
   "source": [
    "dfjson = df.to_json(orient='records', lines=True).splitlines()"
   ]
  },
  {
   "cell_type": "code",
   "execution_count": 19,
   "id": "3b6c13c4",
   "metadata": {},
   "outputs": [],
   "source": [
    "np.savetxt(output_path, dfjson, fmt=\"%s\")"
   ]
  }
 ],
 "metadata": {
  "kernelspec": {
   "display_name": "Python 3 (ipykernel)",
   "language": "python",
   "name": "python3"
  },
  "language_info": {
   "codemirror_mode": {
    "name": "ipython",
    "version": 3
   },
   "file_extension": ".py",
   "mimetype": "text/x-python",
   "name": "python",
   "nbconvert_exporter": "python",
   "pygments_lexer": "ipython3",
   "version": "3.10.4"
  }
 },
 "nbformat": 4,
 "nbformat_minor": 5
}
